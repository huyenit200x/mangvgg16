{
  "nbformat": 4,
  "nbformat_minor": 0,
  "metadata": {
    "colab": {
      "provenance": []
    },
    "kernelspec": {
      "name": "python3",
      "display_name": "Python 3"
    },
    "language_info": {
      "name": "python"
    },
    "accelerator": "GPU",
    "gpuClass": "standard"
  },
  "cells": [
    {
      "cell_type": "code",
      "execution_count": null,
      "metadata": {
        "colab": {
          "base_uri": "https://localhost:8080/"
        },
        "id": "WMNkXLVj5r-H",
        "outputId": "e36d6dff-3380-4c81-bd6b-60d61cb6771e"
      },
      "outputs": [
        {
          "output_type": "stream",
          "name": "stdout",
          "text": [
            "Looking in indexes: https://pypi.org/simple, https://us-python.pkg.dev/colab-wheels/public/simple/\n",
            "Collecting config\n",
            "  Downloading config-0.5.1-py2.py3-none-any.whl (20 kB)\n",
            "Installing collected packages: config\n",
            "Successfully installed config-0.5.1\n"
          ]
        }
      ],
      "source": [
        "!sudo pip3 install config"
      ]
    },
    {
      "cell_type": "code",
      "source": [
        "!pip install scikit-learn==0.20.4"
      ],
      "metadata": {
        "id": "kG-7Et2wLju1"
      },
      "execution_count": null,
      "outputs": []
    },
    {
      "cell_type": "code",
      "source": [
        "!head -n 5 /content/drive/MyDrive/20004061/22_23_HK1/NLMH/VGG16/dataset/annotations/airplanes.csv"
      ],
      "metadata": {
        "colab": {
          "base_uri": "https://localhost:8080/"
        },
        "id": "1UYTrraSOA3z",
        "outputId": "2179127a-e1ef-4654-dd26-e571a24cf7cd"
      },
      "execution_count": null,
      "outputs": [
        {
          "output_type": "stream",
          "name": "stdout",
          "text": [
            "image_0001.jpg,49,30,349,137,airplane\r\n",
            "image_0002.jpg,59,35,342,153,airplane\r\n",
            "image_0003.jpg,47,36,331,135,airplane\r\n",
            "image_0004.jpg,47,24,342,141,airplane\r\n",
            "image_0005.jpg,48,18,339,146,airplane\r\n"
          ]
        }
      ]
    },
    {
      "cell_type": "code",
      "source": [
        "from google.colab import drive\n",
        "drive.mount('/content/drive')"
      ],
      "metadata": {
        "colab": {
          "base_uri": "https://localhost:8080/"
        },
        "id": "FQ18O8QR9s2w",
        "outputId": "07286426-7ff4-4a5e-d111-4b5dfdcecc71"
      },
      "execution_count": null,
      "outputs": [
        {
          "output_type": "stream",
          "name": "stdout",
          "text": [
            "Mounted at /content/drive\n"
          ]
        }
      ]
    },
    {
      "cell_type": "code",
      "source": [
        "!python /content/drive/MyDrive/20004061/22_23_HK1/Multi-class-object-detection-main-20221125T114528Z-001/Multi-class-object-detection-main/config.py"
      ],
      "metadata": {
        "id": "z06SnEVICKDG"
      },
      "execution_count": null,
      "outputs": []
    },
    {
      "cell_type": "code",
      "source": [
        "!python /content/drive/MyDrive/20004061/22_23_HK1/Multi-class-object-detection-main-20221125T114528Z-001/Multi-class-object-detection-main/train.py"
      ],
      "metadata": {
        "colab": {
          "base_uri": "https://localhost:8080/"
        },
        "id": "sodQ8R-CFC3m",
        "outputId": "8f17d81e-eeb4-40c4-b5a5-a56dfbb30476"
      },
      "execution_count": null,
      "outputs": [
        {
          "output_type": "stream",
          "name": "stdout",
          "text": [
            "[INFO] loading dataset...\n",
            "tcmalloc: large alloc 1224097792 bytes == 0x515b4000 @  0x7f286aaaf1e7 0x7f283531714e 0x7f28353750b5 0x7f28353756f9 0x7f283541639f 0x5aa114 0x49ced5 0x55e571 0x55ef23 0x642140 0x6421be 0x644688 0x644c2c 0x6776be 0x677889 0x7f286a6acc87 0x5e0f1a\n",
            "[INFO] saving test image paths...\n",
            "2022-12-02 09:41:00.740828: W tensorflow/core/common_runtime/gpu/gpu_bfc_allocator.cc:42] Overriding orig_value setting because the TF_FORCE_GPU_ALLOW_GROWTH environment variable is set. Original config value was 0.\n",
            "/usr/local/lib/python3.8/dist-packages/keras/optimizers/optimizer_v2/adam.py:110: UserWarning: The `lr` argument is deprecated, use `learning_rate` instead.\n",
            "  super(Adam, self).__init__(name, **kwargs)\n",
            "Model: \"model\"\n",
            "__________________________________________________________________________________________________\n",
            " Layer (type)                   Output Shape         Param #     Connected to                     \n",
            "==================================================================================================\n",
            " input_1 (InputLayer)           [(None, 224, 224, 3  0           []                               \n",
            "                                )]                                                                \n",
            "                                                                                                  \n",
            " block1_conv1 (Conv2D)          (None, 224, 224, 64  1792        ['input_1[0][0]']                \n",
            "                                )                                                                 \n",
            "                                                                                                  \n",
            " block1_conv2 (Conv2D)          (None, 224, 224, 64  36928       ['block1_conv1[0][0]']           \n",
            "                                )                                                                 \n",
            "                                                                                                  \n",
            " block1_pool (MaxPooling2D)     (None, 112, 112, 64  0           ['block1_conv2[0][0]']           \n",
            "                                )                                                                 \n",
            "                                                                                                  \n",
            " block2_conv1 (Conv2D)          (None, 112, 112, 12  73856       ['block1_pool[0][0]']            \n",
            "                                8)                                                                \n",
            "                                                                                                  \n",
            " block2_conv2 (Conv2D)          (None, 112, 112, 12  147584      ['block2_conv1[0][0]']           \n",
            "                                8)                                                                \n",
            "                                                                                                  \n",
            " block2_pool (MaxPooling2D)     (None, 56, 56, 128)  0           ['block2_conv2[0][0]']           \n",
            "                                                                                                  \n",
            " block3_conv1 (Conv2D)          (None, 56, 56, 256)  295168      ['block2_pool[0][0]']            \n",
            "                                                                                                  \n",
            " block3_conv2 (Conv2D)          (None, 56, 56, 256)  590080      ['block3_conv1[0][0]']           \n",
            "                                                                                                  \n",
            " block3_conv3 (Conv2D)          (None, 56, 56, 256)  590080      ['block3_conv2[0][0]']           \n",
            "                                                                                                  \n",
            " block3_pool (MaxPooling2D)     (None, 28, 28, 256)  0           ['block3_conv3[0][0]']           \n",
            "                                                                                                  \n",
            " block4_conv1 (Conv2D)          (None, 28, 28, 512)  1180160     ['block3_pool[0][0]']            \n",
            "                                                                                                  \n",
            " block4_conv2 (Conv2D)          (None, 28, 28, 512)  2359808     ['block4_conv1[0][0]']           \n",
            "                                                                                                  \n",
            " block4_conv3 (Conv2D)          (None, 28, 28, 512)  2359808     ['block4_conv2[0][0]']           \n",
            "                                                                                                  \n",
            " block4_pool (MaxPooling2D)     (None, 14, 14, 512)  0           ['block4_conv3[0][0]']           \n",
            "                                                                                                  \n",
            " block5_conv1 (Conv2D)          (None, 14, 14, 512)  2359808     ['block4_pool[0][0]']            \n",
            "                                                                                                  \n",
            " block5_conv2 (Conv2D)          (None, 14, 14, 512)  2359808     ['block5_conv1[0][0]']           \n",
            "                                                                                                  \n",
            " block5_conv3 (Conv2D)          (None, 14, 14, 512)  2359808     ['block5_conv2[0][0]']           \n",
            "                                                                                                  \n",
            " block5_pool (MaxPooling2D)     (None, 7, 7, 512)    0           ['block5_conv3[0][0]']           \n",
            "                                                                                                  \n",
            " flatten (Flatten)              (None, 25088)        0           ['block5_pool[0][0]']            \n",
            "                                                                                                  \n",
            " dense_3 (Dense)                (None, 512)          12845568    ['flatten[0][0]']                \n",
            "                                                                                                  \n",
            " dense (Dense)                  (None, 128)          3211392     ['flatten[0][0]']                \n",
            "                                                                                                  \n",
            " dropout (Dropout)              (None, 512)          0           ['dense_3[0][0]']                \n",
            "                                                                                                  \n",
            " dense_1 (Dense)                (None, 64)           8256        ['dense[0][0]']                  \n",
            "                                                                                                  \n",
            " dense_4 (Dense)                (None, 512)          262656      ['dropout[0][0]']                \n",
            "                                                                                                  \n",
            " dense_2 (Dense)                (None, 32)           2080        ['dense_1[0][0]']                \n",
            "                                                                                                  \n",
            " dropout_1 (Dropout)            (None, 512)          0           ['dense_4[0][0]']                \n",
            "                                                                                                  \n",
            " bounding_box (Dense)           (None, 4)            132         ['dense_2[0][0]']                \n",
            "                                                                                                  \n",
            " class_label (Dense)            (None, 3)            1539        ['dropout_1[0][0]']              \n",
            "                                                                                                  \n",
            "==================================================================================================\n",
            "Total params: 31,046,311\n",
            "Trainable params: 16,331,623\n",
            "Non-trainable params: 14,714,688\n",
            "__________________________________________________________________________________________________\n",
            "None\n",
            "[INFO] trainig model...\n",
            "2022-12-02 09:41:01.320430: W tensorflow/core/framework/cpu_allocator_impl.cc:82] Allocation of 979034112 exceeds 10% of free system memory.\n",
            "Epoch 1/8\n",
            "51/51 [==============================] - ETA: 0s - loss: 0.2135 - bounding_box_loss: 0.0227 - class_label_loss: 0.1909 - bounding_box_accuracy: 0.6790 - class_label_accuracy: 0.92742022-12-02 09:41:16.981506: W tensorflow/core/framework/cpu_allocator_impl.cc:82] Allocation of 245059584 exceeds 10% of free system memory.\n",
            "51/51 [==============================] - 19s 279ms/step - loss: 0.2135 - bounding_box_loss: 0.0227 - class_label_loss: 0.1909 - bounding_box_accuracy: 0.6790 - class_label_accuracy: 0.9274 - val_loss: 0.0147 - val_bounding_box_loss: 0.0064 - val_class_label_loss: 0.0083 - val_bounding_box_accuracy: 0.7002 - val_class_label_accuracy: 1.0000\n",
            "Epoch 2/8\n",
            "51/51 [==============================] - 9s 186ms/step - loss: 0.0175 - bounding_box_loss: 0.0048 - class_label_loss: 0.0127 - bounding_box_accuracy: 0.7362 - class_label_accuracy: 0.9963 - val_loss: 0.0038 - val_bounding_box_loss: 0.0034 - val_class_label_loss: 3.9935e-04 - val_bounding_box_accuracy: 0.7494 - val_class_label_accuracy: 1.0000\n",
            "Epoch 3/8\n",
            "51/51 [==============================] - 9s 186ms/step - loss: 0.0113 - bounding_box_loss: 0.0029 - class_label_loss: 0.0084 - bounding_box_accuracy: 0.7927 - class_label_accuracy: 0.9969 - val_loss: 0.0028 - val_bounding_box_loss: 0.0024 - val_class_label_loss: 3.8181e-04 - val_bounding_box_accuracy: 0.7764 - val_class_label_accuracy: 1.0000\n",
            "Epoch 4/8\n",
            "51/51 [==============================] - 10s 187ms/step - loss: 0.0089 - bounding_box_loss: 0.0020 - class_label_loss: 0.0069 - bounding_box_accuracy: 0.8223 - class_label_accuracy: 0.9975 - val_loss: 0.0019 - val_bounding_box_loss: 0.0017 - val_class_label_loss: 1.7712e-04 - val_bounding_box_accuracy: 0.8722 - val_class_label_accuracy: 1.0000\n",
            "Epoch 5/8\n",
            "51/51 [==============================] - 10s 188ms/step - loss: 0.0028 - bounding_box_loss: 0.0013 - class_label_loss: 0.0015 - bounding_box_accuracy: 0.8647 - class_label_accuracy: 1.0000 - val_loss: 0.0013 - val_bounding_box_loss: 0.0013 - val_class_label_loss: 9.5774e-05 - val_bounding_box_accuracy: 0.8894 - val_class_label_accuracy: 1.0000\n",
            "Epoch 6/8\n",
            "51/51 [==============================] - 10s 190ms/step - loss: 0.0021 - bounding_box_loss: 8.8324e-04 - class_label_loss: 0.0012 - bounding_box_accuracy: 0.8739 - class_label_accuracy: 1.0000 - val_loss: 0.0010 - val_bounding_box_loss: 9.6050e-04 - val_class_label_loss: 6.1865e-05 - val_bounding_box_accuracy: 0.8575 - val_class_label_accuracy: 1.0000\n",
            "Epoch 7/8\n",
            "51/51 [==============================] - 10s 190ms/step - loss: 0.0022 - bounding_box_loss: 6.5775e-04 - class_label_loss: 0.0015 - bounding_box_accuracy: 0.8893 - class_label_accuracy: 0.9994 - val_loss: 9.2211e-04 - val_bounding_box_loss: 8.6175e-04 - val_class_label_loss: 6.0369e-05 - val_bounding_box_accuracy: 0.8600 - val_class_label_accuracy: 1.0000\n",
            "Epoch 8/8\n",
            "51/51 [==============================] - 10s 190ms/step - loss: 0.0014 - bounding_box_loss: 5.3776e-04 - class_label_loss: 8.2653e-04 - bounding_box_accuracy: 0.8924 - class_label_accuracy: 1.0000 - val_loss: 9.4373e-04 - val_bounding_box_loss: 8.0356e-04 - val_class_label_loss: 1.4017e-04 - val_bounding_box_accuracy: 0.8943 - val_class_label_accuracy: 1.0000\n",
            "[INFO] saving object detector model...\n",
            "[INFO] saving label binarizer...\n"
          ]
        }
      ]
    },
    {
      "cell_type": "code",
      "source": [
        "!pip install transform"
      ],
      "metadata": {
        "id": "YGY424BlKYD9"
      },
      "execution_count": null,
      "outputs": []
    },
    {
      "cell_type": "code",
      "source": [
        "from sklearn import preprocessing"
      ],
      "metadata": {
        "id": "qa8Vjd0BLuMU"
      },
      "execution_count": null,
      "outputs": []
    },
    {
      "cell_type": "code",
      "source": [
        "!python /content/drive/MyDrive/20004061/22_23_HK1/Multi-class-object-detection-main-20221125T114528Z-001/Multi-class-object-detection-main/predict.py -i /content/drive/MyDrive/20004061/22_23_HK1/Multi-class-object-detection-main-20221125T114528Z-001/Multi-class-object-detection-main/output/test_paths.txt"
      ],
      "metadata": {
        "colab": {
          "base_uri": "https://localhost:8080/"
        },
        "id": "S8N0N5CaEOsU",
        "outputId": "1e8c2384-0349-48c3-8aa0-7ca67e255c3a"
      },
      "execution_count": null,
      "outputs": [
        {
          "output_type": "stream",
          "name": "stdout",
          "text": [
            "[INFO] loading object detector...\n",
            "2022-12-02 09:38:24.007245: W tensorflow/core/common_runtime/gpu/gpu_bfc_allocator.cc:42] Overriding orig_value setting because the TF_FORCE_GPU_ALLOW_GROWTH environment variable is set. Original config value was 0.\n",
            "1/1 [==============================] - 3s 3s/step\n",
            "qt.qpa.xcb: could not connect to display \n",
            "qt.qpa.plugin: Could not load the Qt platform plugin \"xcb\" in \"/usr/local/lib/python3.8/dist-packages/cv2/qt/plugins\" even though it was found.\n",
            "This application failed to start because no Qt platform plugin could be initialized. Reinstalling the application may fix this problem.\n",
            "\n",
            "Available platform plugins are: xcb.\n",
            "\n"
          ]
        }
      ]
    },
    {
      "cell_type": "code",
      "source": [
        "!python /content/drive/MyDrive/20004061/22_23_HK1/Multi-class-object-detection-main-20221125T114528Z-001/Multi-class-object-detection-main/predict.py -i /content/drive/MyDrive/20004061/22_23_HK1/Multi-class-object-detection-main-20221125T114528Z-001/Multi-class-object-detection-main/dataset/images/plan-book_4.jpg"
      ],
      "metadata": {
        "colab": {
          "base_uri": "https://localhost:8080/"
        },
        "id": "UotSRMDiOo6W",
        "outputId": "c13c49a8-5f35-4d4d-ee45-c14e96dd6347"
      },
      "execution_count": null,
      "outputs": [
        {
          "output_type": "stream",
          "name": "stdout",
          "text": [
            "[INFO] loading object detector...\n",
            "2022-12-02 09:59:54.071108: W tensorflow/core/common_runtime/gpu/gpu_bfc_allocator.cc:42] Overriding orig_value setting because the TF_FORCE_GPU_ALLOW_GROWTH environment variable is set. Original config value was 0.\n",
            "1/1 [==============================] - 3s 3s/step\n",
            "<PIL.Image.Image image mode=RGB size=600x330 at 0x7FF130F88F40>\n"
          ]
        }
      ]
    }
  ]
}